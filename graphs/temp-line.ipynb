{
 "cells": [
  {
   "cell_type": "code",
   "execution_count": null,
   "metadata": {},
   "outputs": [],
   "source": [
    "# %% Import libraries\n",
    "import os\n",
    "import yt\n",
    "import numpy as np\n",
    "import matplotlib.pyplot as plt\n",
    "\n",
    "# %% Set parameters and file information\n",
    "# Update these paths and parameters as needed\n",
    "file_prefix = 'sn34_smd132_bx5_pe300_hdf5_plt_cnt_'\n",
    "timestamp = 420\n",
    "hdf5_root = '/srv/data/stratbox_simulations/stratbox_particle_runs/bx5/smd132/sn34/pe300/4pc_resume/4pc'  # Change to your HDF5 files directory\n",
    "filename = f\"{file_prefix}0{timestamp}\"\n",
    "\n",
    "# %% Load the dataset using yt\n",
    "file_path = os.path.join(hdf5_root, filename)\n",
    "print(\"Loading dataset from:\", file_path)\n",
    "ds = yt.load(file_path)\n",
    "\n",
    "# %% Define grid parameters and create the arbitrary grid\n",
    "# Define the center (in pc) and set grid boundaries from -500 to 500 pc.\n",
    "center = [0, 0, 0]  # in pc\n",
    "arb_center = ds.arr(center, 'code_length')\n",
    "left_edge = arb_center + ds.quan(-500, 'pc')\n",
    "right_edge = arb_center + ds.quan(500, 'pc')\n",
    "\n",
    "# Set dimensions for the arbitrary grid\n",
    "xlim = 256  # number of cells in x-direction\n",
    "ylim = 256  # number of cells in y-direction\n",
    "zlim = 256  # number of cells in z-direction\n",
    "\n",
    "obj = ds.arbitrary_grid(left_edge, right_edge, dims=(xlim, ylim, zlim))\n",
    "x_range = (0, xlim)\n",
    "y_range = (0, ylim)\n",
    "z_range = (0, zlim)\n",
    "\n",
    "# %% Extract the temperature cube and convert it to Kelvin\n",
    "temp_cube = obj[\"flash\", \"temp\"][x_range[0]:x_range[1],\n",
    "                                 y_range[0]:y_range[1],\n",
    "                                 z_range[0]:z_range[1]].to('K').value\n"
   ]
  },
  {
   "cell_type": "code",
   "execution_count": null,
   "metadata": {},
   "outputs": [],
   "source": [
    "# %% Step 2: Extract the x-y plane at z = 180\n",
    "temp_z180 = temp_cube[:, :, 180]\n",
    "\n",
    "# %% Step 3: Extract the line at y = 200 (varying x)\n",
    "temp_y200 = temp_z180[:, 200]\n",
    "\n",
    "# %% Step 4: Calculate the normalized line\n",
    "# Apply logarithm (base 10) and normalize the resulting values to a scale of 0 to 255.\n",
    "y_line_logged = np.log10(temp_y200)\n",
    "normalized_line = ((y_line_logged - np.min(y_line_logged)) /\n",
    "                   (np.max(y_line_logged) - np.min(y_line_logged))) * 255"
   ]
  },
  {
   "cell_type": "code",
   "execution_count": null,
   "metadata": {},
   "outputs": [],
   "source": [
    "# %% Step 5: Plot the original and normalized temperature lines on dual y-axes\n",
    "fig, ax1 = plt.subplots(figsize=(8, 6))\n",
    "x_vals = np.arange(len(temp_y200))\n",
    "\n",
    "# Plot original temperature (left y-axis)\n",
    "ax1.plot(x_vals, temp_y200, 'b-', label=\"Original Temperature\")\n",
    "ax1.set_xlabel(\"X-axis\")\n",
    "ax1.set_ylabel(\"Temperature (K)\", color='b')\n",
    "ax1.tick_params(axis='y', labelcolor='b')\n",
    "\n",
    "# Create a twin axis for the normalized, logged temperature (right y-axis)\n",
    "ax2 = ax1.twinx()\n",
    "ax2.plot(x_vals, normalized_line, 'r-', label=\"Normalized, Logged Temperature\")\n",
    "ax2.set_ylabel(\"Normalized Log10 Temperature (0-255)\", color='r')\n",
    "ax2.tick_params(axis='y', labelcolor='r')\n",
    "\n",
    "plt.title(\"Temperature Line at y=200, z=180\")\n",
    "fig.tight_layout()\n",
    "plt.show()"
   ]
  }
 ],
 "metadata": {
  "kernelspec": {
   "display_name": "joy_env",
   "language": "python",
   "name": "python3"
  },
  "language_info": {
   "codemirror_mode": {
    "name": "ipython",
    "version": 3
   },
   "file_extension": ".py",
   "mimetype": "text/x-python",
   "name": "python",
   "nbconvert_exporter": "python",
   "pygments_lexer": "ipython3",
   "version": "3.10.13"
  }
 },
 "nbformat": 4,
 "nbformat_minor": 2
}
